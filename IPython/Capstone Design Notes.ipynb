{
 "metadata": {
  "name": "Capstone Design Notes"
 },
 "nbformat": 3,
 "nbformat_minor": 0,
 "worksheets": [
  {
   "cells": [
    {
     "cell_type": "heading",
     "level": 2,
     "metadata": {},
     "source": [
      "Model Design"
     ]
    },
    {
     "cell_type": "markdown",
     "metadata": {},
     "source": [
      "The mesh given to a cluster should contain three face groups: inlet, outlet, and walls. \n",
      "\n",
      "* The inlet should be where air flows into the wind tunnel. \n",
      "* The outlet is where air is flowing out. The walls should be the walls of the wind tunnel not the surface of the shroud. \n",
      "* The surface of the shroud should is selected by code_saturne using the \"not (inlet or outlet or wall)\" criteria selection.\n",
      "* The walls of the tunnel are actually set to be outlets in code-saturne so that the stream tube can be expanded and we can actually have the head loss affect something! Continuity wasn't allowing us to do this before.\n",
      "\n",
      "The design of the wind tunnel should be as follows:\n",
      "\n",
      "* The wind tunnel length should lie along the x-axis. The x-axis should be parallel to the walls of the tunnel\n",
      "* Each wall should have equi-distance from the origin (The origin should be centered at the inlet face)\n",
      "* The length is 100\n",
      "* The Radius is 10\n",
      "* The actuator disk is then located at 50"
     ]
    },
    {
     "cell_type": "heading",
     "level": 2,
     "metadata": {},
     "source": [
      "Simulation Notes"
     ]
    },
    {
     "cell_type": "heading",
     "level": 3,
     "metadata": {},
     "source": [
      "General Process"
     ]
    },
    {
     "cell_type": "markdown",
     "metadata": {},
     "source": [
      "The running of the cluster code is as follows:\n",
      "\n",
      "- Start up a cluster from directly within the pythonlib with the follows: **python -m windmc.sim.clusters.cluster**\n",
      "- A cluster receives orders to perform simulations via HTTP POST requests. The POST requests contain information on simulation parameters. Th Cluster code does the following:\n",
      "- First uses the simulation parameters to create a blank study and case if the JOB_TYPE field is \"code_saturne\" or \"code_saturne_actuator_disk\".\n",
      " - The simulation parameters are as follows (The description of the parameter sent is given first, followed by the key in the JSON map of parameters and finally the XPath notation to for setting this value in the code_saturne xml parameter file):\n",
      "  - Case Name: CASE: /Code_Saturne_GUI@case\n",
      "  - Study Name: STUDY /Code_Saturne_GUI@study\n",
      "  - Mesh creation method tells whether to download the mesh or build it in python: MESH_CREATE : DOWNLOAD or BUILD\n",
      "  - Mesh creation code (if method is DOWNLOAD, this is the meshFileName to request, if BUILD this is the code to run): MESH_CODE /Code_Saturne_GUI/meshes_list/mesh@name\n",
      "  - Head Loss: HLXX, HLYY, HLZZ /Code_Saturne_GUI/thermophysical_models/head_losses/head_loss/kxx::text(), kyy::text(), kzz::text()\n",
      "  - Shroud Inlet Probe location for x: SHROUD_IN_X: /Code_Saturne_GUI/analysis_control/output/probe[@name='5']/probe_x::text()\n",
      "  - Shroud Inlet Probe location for y: SHROUD_IN_Y: /Code_Saturne_GUI/analysis_control/output/probe[@name='5']/probe_y::text()\n",
      "  - Shroud Inlet Probe location for z: SHROUD_IN_Z: /Code_Saturne_GUI/analysis_control/output/probe[@name='5']/probe_z::text()\n",
      "  - Shroud Outlet Probe location for x: SHROUD_OUT_X: /Code_Saturne_GUI/analysis_control/output/probe[@name='6']/probe_x::text() \n",
      "  - Shroud Outlet Probe location for y: SHROUD_OUT_Y: /Code_Saturne_GUI/analysis_control/output/probe[@name='6']/probe_y::text()\n",
      "  - Shroud Outlet Probe location for z: SHROUD_OUT_Z: /Code_Saturne_GUI/analysis_control/output/probe[@name='6']/probe_z::text()\n",
      "  - NOTE: The shroud inlet and shroud outlet parameters are ignored when running an actuator disk study.\n",
      "  - **NOTE:** We do not send probe locations for the tunnel inlet or outlet nor the actuator disk inlet and outlet. This is because we assume that all tunnels sent will have a standard length and that the actuator disk is placed in the center of this tunnel.\n",
      "   - The template xml case file has these probes already set based on the standard lengths.\n",
      "- Other parameters that need to be sent are:\n",
      " - IP of controller to send response to, respIP\n",
      " - The unique ID of this job: jobID\n",
      " - Port to post response to, respPort\n",
      " - Module name to use for processing, processorModule\n",
      "- One of the simulation parameters contains a piece of python code to inject into the mesh generating python code.\n",
      "- The code is injected and the mesh generated.\n",
      "- The simulation is then run.\n",
      "- Once the simulation is finished, a parameter within the simulation parameters is used to find the post-processing python module. This module is used to processs the simulation results and its JSON formatted data is POSTED to the controller."
     ]
    },
    {
     "cell_type": "heading",
     "level": 3,
     "metadata": {},
     "source": [
      "File Locations"
     ]
    },
    {
     "cell_type": "markdown",
     "metadata": {},
     "source": [
      "Files for running clusters and the controller python servers are located within two directories within the pythonlib directory. They are: cluster and controller, respectively. The contents of the cluster are as follows:\n",
      "\n",
      "* code_saturne (Contains files for code_saturne simulations)\n",
      "    * studies Where the blank template study is stored and the studies used during simulations are stored.\n",
      "        * Study1 The blank simulation study\n",
      "    * templates\n",
      "    * case.xml An xml file with all necessary parameters set in the xml. The parameters can simply be changed by the cluster code. no inseration of xml elements is necessary. This file is used by the cluster code. The cluster makes a copy of this file in the Study1/CASE1/DATA directory.\n",
      "        * mesh.med A blank mesh file used for in generating the case.xml file."
     ]
    },
    {
     "cell_type": "heading",
     "level": 3,
     "metadata": {},
     "source": [
      "Monitoring"
     ]
    },
    {
     "cell_type": "markdown",
     "metadata": {},
     "source": [
      "Four points are monitored in the following order in code-saturne:\n",
      "\n",
      "1. The inlet of the wind tunnel (actually slightly inside the inlet)\n",
      "1. The outlet of the tunnel.\n",
      "1. The face of the actuator disk location.\n",
      "1. The back face of the actuator disk location.\n",
      "1. The inlet of the shroud\n",
      "1. The outlet of the shroud\n",
      "\n",
      "The monitoring is outputted in csv format"
     ]
    },
    {
     "cell_type": "code",
     "collapsed": false,
     "input": [],
     "language": "python",
     "metadata": {},
     "outputs": []
    }
   ],
   "metadata": {}
  }
 ]
}