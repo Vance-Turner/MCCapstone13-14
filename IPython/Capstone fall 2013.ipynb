{
 "metadata": {
  "name": "Capstone fall 2013"
 },
 "nbformat": 3,
 "nbformat_minor": 0,
 "worksheets": [
  {
   "cells": [
    {
     "cell_type": "markdown",
     "metadata": {},
     "source": [
      "OPrevious Reading Notes"
     ]
    },
    {
     "cell_type": "markdown",
     "metadata": {},
     "source": []
    },
    {
     "cell_type": "heading",
     "level": 1,
     "metadata": {},
     "source": [
      "September 17, 2013"
     ]
    },
    {
     "cell_type": "markdown",
     "metadata": {},
     "source": [
      "Notes from today's reading.\n",
      "Will Vance's project: $P={1\\over 2}\\dot{m}v^2={1\\over 2}\\rho Av^3$ which tell's us that the power available from wind is proportional to the wind velocity cubed. Here $\\dot{m}$ is the time derivative of mass flowing through the turbine, $v$ is the air velocity, $\\rho$ is the density of the air, and $A$ is the cross sectional area of the wind turbine. Will got this equation from: D G. Pelka, R. T. Park, R. Singh, \"Energy from the Wind,\" Am. J. Phys 46 (495), (1978) Will has several references, I am going to go look up: \"Diffuser Development for a Diffuser Augmented Wind Turbine Using Computational Fuid Dynamics\" by D. G. Phillips, P. J. Richards, R. G. J. Flay\n",
      "<ul>\n",
      "    <li>\n",
      "        Background on Wind Turbines: \n",
      "        <ul>\n",
      "            <li>\n",
      "                Wind turbines come in two types: Vertical Axis Turbines and Horizontal Axis Turbines (1) Wind turbines are high up because the taller you go, the faster the wind is!\n",
      "            </li>\n",
      "            <li>\n",
      "                The wind vane measures the wind direction and communicates with the Yaw motor to correctly orient the wind turbine to face the wind. (2)\n",
      "            </li>\n",
      "            <li>Wind turbines work by wind blowing on turbine blades. The blade causes a pressure downwind of the blade and pulls the blade down. It works like an airplane foil. The force of the lift is actually much <b>stronger</b> than the force of the drag (1).\n",
      "            </li>\n",
      "            <li>\n",
      "                The Betz limit is the conversion ratio or the power coefficient of the wind turbine: $C_p={Electricity produced by turbine\\over Energy available in the wind}$ (VI)\n",
      "            </li>\n",
      "        </ul>\n",
      "    </li>\n",
      "    <li>\n",
      "        History on DAWT (3)\n",
      "        <ol>\n",
      "            <li>\n",
      "                Early Foreman at the Gumman Aerospace Dept. USA and Kogan from BenGurion Univ. IN Israel. Foreman said DAWT worked but Kogan said not so. Then at the 1979 Wind Energy conference people conclude DAWT is economically unfeasible and interest dies.\n",
      "            </li>\n",
      "            <li>\n",
      "                Then in 20 years afterward Vortec Energy comes along and says they can higher wind energy conversion rates; but unfortunately, it is significantly below the Betz limit.\n",
      "            </li>\n",
      "            <li>\n",
      "                Some theory blah blah blah: <b>Basic Momentum Theory Model</b> The wind turbine in the diffuser simply causes a pressure drop from the intlet of the diffuser to the exit. The derivation results in $p_2-p_1=4a(1-a){1\\over 2\\rho V_0^2}$ where $a$ is the axial induction factor which is the ratio of the change in the wind speed far away to the wind sped at the blade over the wind speed far away. It results from the wind being deflected around the blades. It is: $a={U_1-U_2\\over U_1}$ where $U_1$ is the wind speed far away and $U_2$ is the wind speed at the blades. We notice that this is independent of diffuser area ratio, the back pressure ratio, and the location of the turbine inside the diffuser! The importance though of the shroud is noticed by the increase in wind velocity at the inlet: $v_1=\\beta \\gamma (1-a)V_0$ where $\\beta$ is the diffuser area ratio (the ratio of the outle to the inlet of the cross-sectional area) and the $\\gamma$ is the negative back pressure. Thus we have more wind coming into the diffuser and thus more power. The theory developed then says that the thrust on the rotor is not dependent on the extra mass flow. When we compare the basic momentum theory model to the results of Grumman Aerospace experiments the model does quite well.\n",
      "            </li>\n",
      "            <li>\n",
      "                The results of experiments as summed up in 2007: No experiments have led to power coefficients larger than 0.47.\n",
      "            </li>\n",
      "            <li>\n",
      "                Conclusions as of 2007: Applying simple momentum theory we can see that energy extracted per unit of wind is the same with or without the shroud. The increase in maximum performance is due to the mass flow. It goes with the geometric area ratio $\\beta$ between nozzle and exit. Extra back pressure allows us to go beyond the maximum power coefficient which is equal to the Betz maximum: ${16\\over 27}$. <b>Power coefficients have not gone above 0.5.</b> If we reduce back pressure, we can increase performance; but this comes at a cost of high diffuser area ratio's. $\\beta>4.5$. <b>So far no one has combined a large value for backpressure and significant mass flow augmentation</b>\n",
      "            </li>\n",
      "        </ol>\n",
      "    </li>\n",
      "    <li>\n",
      "        <b>Various papers on shrouds</b>\n",
      "        <ul>\n",
      "            <li>Optimization of power generation from shrouded wind turbines. (IV)\n",
      "                <ul>\n",
      "                    <li>\n",
      "                        Simulated maybe 2D shrouds generated through a genetic algorithm.\n",
      "                        Started from a base of thirteen configurations and optimized them. They set limits on the size of the shroud for practicality. \n",
      "                    </li>\n",
      "                    <li>\n",
      "                        Seems to do 2D simulations? Also, only focused on maximizing the power coefficient and nothing else! They say nothing about the direction of the flow, possibly because it is 2D?\n",
      "                    </li>\n",
      "                    <li>\n",
      "                        They found that the ratio of shroud exit area to turbine area was the primary factor in determining shroud performance. Larger diffusers==larger flow velocities. This corresponds to the momentum model.\n",
      "                    </li>\n",
      "                    <li>\n",
      "                        <b>Shrouds can help turbine exceed Betz limit!</b> Power coefficient goes beyond 0.8!\n",
      "                    </li>\n",
      "                </ul>\n",
      "            </li>\n",
      "            <li>\n",
      "                Computational Analysis of Shrouded Wind Turbine Configurations (V)\n",
      "                <ul>\n",
      "                    <li>\n",
      "                        Simulates four airfoils in 2D and then selects one for a full 3D simulation. \n",
      "                    </li>\n",
      "                    <li>\n",
      "                        Putting shrouds on small wind turbines is better because we want more force on the shroud and the shroud radius to shroud length must be small for large force.\n",
      "                    </li>\n",
      "                    <li>\n",
      "                        The shape of the shroud's outer surface is important in capturing more mass into the shroud.\n",
      "                    </li>\n",
      "                    <li>\n",
      "                        Even a simple shroud geometry exceeds the Betz limit! This was found in the 3D simulation. They were able to get upt o 90% beyond the Betz limit. Again though their 3D simulation seems to consider only constant wind direction and only considers power coefficient. Although they do say that smaller shrouds are better.\n",
      "                    </li>\n",
      "                </ul>\n",
      "            </li>\n",
      "            <li>\n",
      "                Diffuser Dev. for a Diffuser Augmented Wind Turbine Using CFD (VII)\n",
      "                <ul>\n",
      "                    <li>\n",
      "                        Lilley and Rainbird did theoretical work of DAWT, then Foreman came along with an economical design. Then Grumman Aerospace Corp in the 70s and 80s identified external air jets to prevent separation within the diffuser. Vortec used this idea in 1997 to build the Vortec 7. The Vortec 7 though did not get the results they expected from the Foreman work. They thus enlisted Aucklend Univ. students to modify the Vortec 7.\n",
      "                    </li>\n",
      "                    <li>\n",
      "                        The inlet speed up found in the CFD and vortec 7 didn't agree with Grumman. We need essentially a velocity slow down and lower pressure at the back.\n",
      "                    </li>\n",
      "                    <li>\n",
      "                        We need to limit the amount of flow separation. The $k-\\epsilon$ turbulence model has problems with this.\n",
      "                    </li>\n",
      "                    <li>\n",
      "                        This study again only focused on optimizing the power. This wind turbine is actually quite huge!\n",
      "                    </li>\n",
      "                </ul>\n",
      "            </li>\n",
      "            <li>\n",
      "                A Shrouded Wind Turbine Generating High Output Power with Wind-lens Technology (VIII)\n",
      "                <ul>\n",
      "                    <li>\n",
      "                        Developed a wind lens and tested it in a wind tunnel. They somehow got around the blockage effect.\n",
      "                    </li>\n",
      "                    <li>\n",
      "                        Wind patterns in Japan for example are complex compared to other locations. (Therefore we just can't assume wind is in a constant direction all the time)\n",
      "                    </li>\n",
      "                    <li>\n",
      "                        Diffuser pattern is much better than funnel. The flow visualization shows much turbulence at the back of the turbine. How can the vane know what way the wind is actually blowing?\n",
      "                    </li>\n",
      "                    <li>\n",
      "                        The brim on the back of the turbine not only causes a low-pressure zone around the turbine but also allows the turbine to face the wind correctly. Though they did not specifically mention how effective it is.\n",
      "                    </li>\n",
      "                    <li>\n",
      "                        They also developed short-brim models. They seem quite effective and give increases in power. The long version of the brim though gives the most power. The short ones only give two-three times as much power. Could we optimize with this brim design and give a long length?\n",
      "                    </li>\n",
      "                </ul>\n",
      "            </li>\n",
      "        </ul>\n",
      "    </li>\n",
      "</ul>\n",
      "\n",
      "**Terms**\n",
      "<ul>\n",
      "    <li>\n",
      "        Disk loading: The pressure change across an actuator disk. <a href=\"http://en.wikipedia.org/wiki/Disk_loading\">Source</a>\n",
      "    </li>\n",
      "</ul>\n",
      "\n",
      "*References*\n",
      "<ol type='I'>\n",
      "    <li>\n",
      "        (http://www.eere.energy.gov/basics/renewable_energy/wind_turbines.html)\n",
      "    </li>\n",
      "    <li>\n",
      "        http://www1.eere.energy.gov/wind/media/expanded_as3_single.swf\n",
      "    </li>\n",
      "    <li>\n",
      "        The science of making more torque from the wind: Diffuser experiments and theory revisted. Dr. Gerard J.W. van Bussel\n",
      "    </li>\n",
      "    <li>\n",
      "        Optimization of power genration from shrouded wind turbines Tudor Foote, Ramesh Agarwal\n",
      "    </li>\n",
      "    <li>\n",
      "        Computational Analysis of Shrouded Wind Turbine Configurations Aniket Aranake, Vinod Lakshminarayan, Karthik Duraisamy\n",
      "    </li>\n",
      "    <li>\n",
      "        <a href=\"http://learn.kidwind.org/sites/default/files/betz_limit_0.pdf\">Understanding Coefficient of Power (Cp) and Betz Limit</a>\n",
      "    </li>\n",
      "    <li>\n",
      "        Diffuser Development for a Diffuser Augmented Wind Turbine Using Computational Fluid Dynamics, D.G. Phillips, P.J. Richards, R.G.J. Flay\n",
      "    </li>\n",
      "    <li>\n",
      "        A Shrouded Wind Turbine Generating High Output Power with Wind-lens Technology, Yuji Ohya and Takashi Karasudani\n",
      "    </li>\n",
      "</ol>"
     ]
    },
    {
     "cell_type": "heading",
     "level": 1,
     "metadata": {},
     "source": [
      "September 23 and 24, 2013 Meeting Questions and Notes from the Tutorial"
     ]
    },
    {
     "cell_type": "markdown",
     "metadata": {},
     "source": [
      "<ol>\n",
      "    <li>\n",
      "        What is this group thing about? I understand it corresponds to boundary conditions somehow?\n",
      "    </li>\n",
      "    <li>\n",
      "        Are we going to generate the mesh through code?\n",
      "    </li>\n",
      "    <li>\n",
      "        Why doesn't our code_saturne have a post_processing thing?\n",
      "    </li>\n",
      "</ol>\n",
      "**Notes froms the Tutorial located <a href=\"http://code-saturne.blogspot.com/2010/02/cfd-example-laminar-flow-along-2d.html\">here</a>**\n",
      "<ul>\n",
      "    <li>\n",
      "        Fluid flow between two infinite parallel plates, with a relatively low velocity (laminar flow)\n",
      "    </li>\n",
      "    <li>\n",
      "        Extrusion>>Pushing a raw material through a shape to get a final shape. \n",
      "    </li>\n",
      "    <li>\n",
      "        Finite Volume Method is how Code_saturne handles 3D meshes. <b>I need to look this up more! </b>\n",
      "    </li>\n",
      "    <li>\n",
      "            Creating a case with code_saturne\n",
      "        <ul>\n",
      "            <li>\n",
      "                    cs create -s -c to specify a study and case name, respectively. We actually use code_saturne.\n",
      "            </li>\n",
      "            <li>\n",
      "                A study can have multiple cases.\n",
      "            </li>\n",
      "        </ul>\n",
      "    </li>\n",
      "    <li>\n",
      "        It seems we copy the FORTRAN90 code files from the REFERENCE directory into the SRC directory and modify them and leave them there.\n",
      "    </li>\n",
      "</ul>"
     ]
    },
    {
     "cell_type": "heading",
     "level": 1,
     "metadata": {},
     "source": [
      "September 24, 2013 Computational Fluid Dynamics Reading Notes"
     ]
    },
    {
     "cell_type": "markdown",
     "metadata": {},
     "source": [
      "Using a CFD, basic steps."
     ]
    },
    {
     "cell_type": "markdown",
     "metadata": {},
     "source": [
      "1. Creation of Geometry\n",
      "- Two types of problems: external flow and internal flow\n",
      "- Internal Flow: The flow between two parallel plates\n",
      "- External flow: The flow around two cylinders in a fluid\n",
      "<img src=\"files/CFDBookLink/computationaldomain_cylinders.jpeg\" style=\"width:300px;clear:below\"/> (Src Fig 2.5)\n",
      "- Need to consider the length of the fluid flow: We in internal fluid flow need something to be fully developed; but in the internal just enough for the wakes to appear.\n",
      "2. Mesh Generation\n",
      "    1. We divide the entire computational domain into smaller domains. We do this by building a mesh which is a grid of cells (elements or control volumes) that overlay the entire domain. The CFD then solves the physics in each of these small domains. The more domains, the more precise the solution.\n",
      "    2. The mesh appears to be defined in the x-y plane. Where there are cells is where we have fluid flow. Where there are no cells, that is where there is a shape. The image below is the x-y for the two cylinder example.\n",
      "    <img src=\"files/CFDBookLink/basicmech.jpeg\" /> (src Figure 2.7)\n",
      "    3. Meshes come in two types:\n",
      "         1. Structured Mesh: The mesh is a consistent type, like repeated rectangles.\n",
      "         2. Unstructured: The mesh contains triangular cells at various rotations to make complicated boundaries.\n",
      "3. Selection of Physics and Fluid Properties\n",
      "    1. We then determine the various properties of the fluids. Here is a nice little flow chart.\n",
      "    2. <img src=\"files/CFDBookLink/flowphysics_flowchart.jpeg\" style=\"width:300px\" class=\"imgstretch\"/>\n",
      "4. Specification of Boundary Conditions\n",
      "    1. Need to specify them.\n",
      "        1. Inflow and Outflow boundaries. Where the fluid comes in and goes out.\n",
      "        2. Solid Wall boundaries: Bound the low geometry and the surroudning walls of possible internal obstacles.\n",
      "5. Initialization and solution control\n",
      "    1. We need first to set up our initial conditions. The closer the initial conditions are to the final conditions, the faster the solution will converge. Also, keeping initial conditions close to reality will keep the solution from blowing up.\n",
      "    2. We then need to determine how we will calculate. Most CFDs and code_saturne do in fact use the FVM: Finite Volume Method.\n",
      "    3. I am not sure if code_saturne supports different FVM methods.\n",
      "6. Monitoring Convergence\n",
      "    1. Once the calculation is started we then need to monitor key variables to see if the solution has converged. code_saturne supports this through using xmgrace on its files in the tmp directory.\n",
      "    2. In commercial CFDs they look at the residuals going smaller and smaller. The residuals are the imbalances caused by the algebra in the CFD calculation.\n",
      "    3. We can also look at various other factors such as lift, velocity, etc."
     ]
    },
    {
     "cell_type": "heading",
     "level": 3,
     "metadata": {},
     "source": [
      "2.4 Result Report and Visualization -- Post-Process"
     ]
    },
    {
     "cell_type": "heading",
     "level": 2,
     "metadata": {},
     "source": [
      "October 8, 2013 -- Attempting to build a cylindrical shape"
     ]
    },
    {
     "cell_type": "markdown",
     "metadata": {},
     "source": [
      "So, I have some questions for Dr. McKay.\n",
      "\n",
      "1. What are subshapes?\n",
      "2. Can we get more details on how the algorithms work?\n",
      "3. How about partitions.\n",
      "\n",
      "Things I have accomplished this week:\n",
      "\n",
      "1. Was successfully able to modify the original tutorial so that I modeled a rectangle box that flares at the end.\n",
      "2. Successfully built a cylinder by extruding a circle. This was very hard. The meshing is quite difficult. I did it by using triangular meshing on the inlet and outlet and quadrangles on the length surfaces. Some notes from that lesson:\n",
      "    * Not all methods are just going to magically work!\n",
      "    * We can use different methods on different faces. We do this by using subshapes: geompy.SubShapeAllSortedCentres\n",
      "    * It seems important to first specify general meshing algorithms for the total mesh and then specify for the subshapes.\n",
      "* here is a pretty picture! <img src=\"files/"
     ]
    },
    {
     "cell_type": "heading",
     "level": 1,
     "metadata": {},
     "source": [
      "Paper Reading Notes"
     ]
    },
    {
     "cell_type": "markdown",
     "metadata": {},
     "source": [
      "This section should always be placed at the bottom. In other words, insert cells above this for day to day work notes."
     ]
    },
    {
     "cell_type": "heading",
     "level": 4,
     "metadata": {},
     "source": [
      "Modeling and Simulation of Micro-scale Wind Farms Using High Performance Computing Ashraf, Hisham"
     ]
    },
    {
     "cell_type": "markdown",
     "metadata": {},
     "source": [
      "1. Page 2-3\n",
      "    * Stuff about modeling of wind turbine rotor performance using models (near bottom of page2).\n",
      "        * For years the most popular has been the blade element momentum theory (BEM) it has been used by Manwell, Hansen, and Ingram, Lanzfame, and Messina. It is used in the industry. It predits the load and performance predictions.\n",
      "        * An advanced aerodynamic method has been developed that uses actuator-disk (AD) that relies on **tabulated airfoil data** (Hansen 2003, Mikkelsen 2003) It is the most widely used method.\n",
      "            * Used method for multiple wake simulations because it is easy to implement, achieves good accuracy and consumes lower computational effort the Actuator line, and actuator surface\n",
      "    * These guys use the virtual blade model in which rotor system is replaced b momentum sources in the actuator disk. The VBM looks very good.\n",
      "    * This gives a nice concise description of what code_saturne does on section 2.1 towards the end"
     ]
    },
    {
     "cell_type": "heading",
     "level": 4,
     "metadata": {},
     "source": [
      "Optimization of power generation from shrouded wind turbines: Tudor Foote, Ramesh Agarwal"
     ]
    },
    {
     "cell_type": "markdown",
     "metadata": {},
     "source": [
      "1. Introduction\n",
      "* Recent studies show that shrouded turbines generate more wind than bare turbines. **(I need to actually find studies and reference them instead of just referencing this study)** They have two references:\n",
      "        * Hansen, Sorenson, Flay Effect of Placing a Diffuser around a Wind Turbine\n",
      "        * Werle, Presz, Shroud and Ejetor Agumenters for Subsonic Propulsion\n",
      "    * There are some good sources here on how actuator disk model is to be implemented! References 2-5 specifically. \n",
      "    * In the abstract it says the power coefficient is pushed beyond the Betz limit considerably.\n",
      "2. Technical Approach\n",
      "    * They used the incrompressible RANS equations solver with a two equation realizable $k-\\varepsilon$ \n",
      "3. Brief Description of Genetic Algorithm\n",
      "    * They are a class of stochastic optimization algorithms inspired by biological evolution. \n",
      "        * Set of input vectors (a generation) which are called individuals are iterated over as we combine the traits of the best individuals until convergence is reached. The following steps are used\n",
      "            * Create N individuals\n",
      "            * Evaluate the fitness of the individuals\n",
      "            * Remove some subset of the individuals. Usually the individuals with the lowest fitness are removed. Sometimes removing individuals with similar fitness is performed: culling.\n",
      "            * Then pairs of surviving individuals are paired to produce offspring. Use roulette wheel sampling: $P[h_i]={fitness(h_i)\\over \\sum^i{fitness(h_j)}}$\n",
      "            * We then use a crossover function to produce the offspring. We swap alleles.\n",
      "            * Then we mutate some of them\n",
      "            * Check for convergence, how do we do this? Then return best individual that converged."
     ]
    },
    {
     "cell_type": "heading",
     "level": 4,
     "metadata": {},
     "source": [
      "Computational Analysis of Shrouded Wind Turbine Configurations: Aranake, Lakshminarayan Duraisamy"
     ]
    },
    {
     "cell_type": "markdown",
     "metadata": {},
     "source": [
      "1. Introduction\n",
      "    * Can't go beyond the Betz limit for HAWT turbines: 59.3% This is the energy of the streamtube with area equal to that swept by the rotor.\n",
      "    * This has good history of development of DAWTs"
     ]
    },
    {
     "cell_type": "heading",
     "level": 4,
     "metadata": {},
     "source": [
      "Numercial Modeling and Optimization of Power Generation from Shrouded Wind Turbines (Tudor, Foote)"
     ]
    },
    {
     "cell_type": "markdown",
     "metadata": {},
     "source": [
      "1. Some interesting stuff on basic history in 1.2\n",
      "2. Some good stuff on basics of the actuator disk system in 1.3\n",
      "    * Mikkelsen performs some anlysis of the actuator disk model for wind turbines."
     ]
    },
    {
     "cell_type": "heading",
     "level": 2,
     "metadata": {},
     "source": [
      "December 3, 2013 -- Reading about Head Loss"
     ]
    },
    {
     "cell_type": "markdown",
     "metadata": {},
     "source": [
      "This should be on my reading list: Hauke, G.. An Introduction to Fluid Mechanics and Transport Phenomena. 2008.\n",
      "http://rave.ohiolink.edu/ebooks/ebc/9781402085376"
     ]
    },
    {
     "cell_type": "markdown",
     "metadata": {},
     "source": [
      "**Pressure Head** This is relates the pressure of a fluid to the density and specific gravity by: $h_f={p \\over \\rho g}$. Head loss simply seems to be the change of this at some point. (Hauke, G.. An Introduction to Fluid Mechanics and Transport Phenomena. 2008.\n",
      "http://rave.ohiolink.edu/ebooks/ebc/9781402085376 Ch 9)\n",
      "**Head Loss Coefficient** Found it in ch 12 of the Into to Fluid Mech and Transport Phenomena (page 8-9): $h_f={\\Delta p^* \\over \\rho g}=K_s{U^2 \\over 2g}$ $K_s$ is the head loss coefficient. Note that $ p^* $ is the modified pressure: $p^*=p + \\rho gz$ which includes the gravity forces. Where the $z$ must be height above earth?"
     ]
    },
    {
     "cell_type": "heading",
     "level": 4,
     "metadata": {},
     "source": [
      "Update on Git Work"
     ]
    },
    {
     "cell_type": "markdown",
     "metadata": {},
     "source": [
      "I commited everything to the ActuatorDisk_test1 branch. Then I updated this branch onto GitHub and then merged the branch on my local repository into the LearningCFD branch. Then I deleted the local ActuatorDisk_test1 branch. So, now I am checked out in the LearningCFD branch. Next, I then checked out a InitialHeadLoss branch that I am working on now.\n",
      "\n",
      "This branch is for trying to build an actuator disk with resistance set by the head loss coefficients. I am working in the BetzLimitTesting study and the betzlimit_testing_basic case."
     ]
    },
    {
     "cell_type": "heading",
     "level": 2,
     "metadata": {},
     "source": [
      "December 5, 2013 -- Working on Cluster"
     ]
    },
    {
     "cell_type": "markdown",
     "metadata": {},
     "source": [
      "Ok, I almost have a working cluster. The code is on the machines and I can connect to it via SSH; but there is a problem. The time steps aren't getting sent to the cluster PCs. This is because I simply didn't factor that into the message. Thus, the message interpretation needs to be updated on the cluster scripts to take in the new timestep content. Then I will need to push this to git and download.\n",
      "\n",
      "It is working so freaking well tho!!"
     ]
    },
    {
     "cell_type": "heading",
     "level": 2,
     "metadata": {},
     "source": [
      "January 21, 2014"
     ]
    },
    {
     "cell_type": "markdown",
     "metadata": {},
     "source": [
      "6:00AM Jan 21, 2014> Well, we finally have the first experimental result! Last night I ran a serious of four simulations on identical meshes with varying head loss coefficients (in x). Each simulation then found the energy extracted by the \"actuator disk\" which is simulated by the head loss region. The set up was as follows. The energy extraction is: ${(U_{in}^3-U_{out}^3) \\over U_{in}^3}$\n",
      "\n",
      "A tunnel of length 100 and radius 10. An actuator disk placed at the center and width of 0.1. Inlet fluid flow 5.0 m/s. The results are fantastic; but unfortunately, I need to go a little further. That is ok. I'm going to test with multiple meshes now. Here are the results:)\n",
      "\n",
      "<img src='/files/jan21_energy_extracted.png'/>\n",
      "\n",
      "I'm now running the same test but this time with head loss from 0.0 all the way to 1.0. (6:11 AM Jan 21, 2014) I'm running them using this screen technique: <a href='http://askubuntu.com/questions/8653/how-to-keep-processes-running-after-ending-ssh-session'/> The screens are named:\n",
      "\n",
      "- Server2_Cluster for the cluster screen (The one doing the computations)\n",
      "- Server2_Controller for the controller screen (The one managing the computations and storing the results)\n",
      "\n",
      "Hmmm...we have a connection time out problem...didn't think of that using the network to communicate...\n",
      "So, restarting now, we are going to start up jobs staggered by 30 seconds. 6:27 AM\n",
      "Right on schedule: 7:00AM all jobs are started up...Successfully ctrl+a and ctrl+d out of the Screen program and exit out of ssh, server still running!"
     ]
    },
    {
     "cell_type": "heading",
     "level": 2,
     "metadata": {},
     "source": [
      "January 25, 2014"
     ]
    },
    {
     "cell_type": "markdown",
     "metadata": {},
     "source": [
      "After running several more simulations, I talked with Dr. Mckay and realized that by the continuity equation, the stream tube must expand if the head loss is to actualy cause the wind to slow down in the tunnel!! This means we must set the walls of the tunnel to be outlets, not walls. So, now I am going to set up some new simulations that position probes at various locations along the tunnel. Also, the tunnel walls will be set as outlets and finally I am going to crank up the mesh density. The design I am envisioning is as follows:"
     ]
    },
    {
     "cell_type": "heading",
     "level": 4,
     "metadata": {},
     "source": [
      "Probe Locations"
     ]
    },
    {
     "cell_type": "markdown",
     "metadata": {},
     "source": [
      "<object data=\"/file/actuator_disk_probes.svg\" type=\"image/svg+xml\">\n",
      "    <img src=\"/files/actuator_disk_probes.svg\" width='400'/>\n",
      "</object>"
     ]
    },
    {
     "cell_type": "markdown",
     "metadata": {},
     "source": [
      "I applied an automatic tetrahelization to the mesh and set the length to be 1. The name of the case for this is: actuator_disk_case_2.xml\n",
      "Before uploading the pythonlib with these new changes I backed up the pythonlib directory on atlacamani into pythonlib_backup_jan_26_2014"
     ]
    },
    {
     "cell_type": "heading",
     "level": 2,
     "metadata": {},
     "source": [
      "January 26, 2014"
     ]
    },
    {
     "cell_type": "markdown",
     "metadata": {},
     "source": [
      "Successfuly meshed a tetrahedral mesh with division lengths of 1, and set up probes. Also, increased processes count to 4 for the code_saturne simulation. Now going to run a simulation: 9:10 AM Running on screen: HDMesh1 Job started at 9:25AM"
     ]
    },
    {
     "cell_type": "code",
     "collapsed": false,
     "input": [],
     "language": "python",
     "metadata": {},
     "outputs": []
    },
    {
     "cell_type": "markdown",
     "metadata": {},
     "source": [
      "Ok, after adding in Pandas processing, let's try to do some jobs. The jobs will be done in sreen: SmallMesh1\n",
      "Ok, seems to work, now going for the big meshes from head loss 0>4 with 0.1 steps. Using the WindTunnel_HD.med mesh. Starting at 12:53PM"
     ]
    },
    {
     "cell_type": "markdown",
     "metadata": {},
     "source": [
      "## January 29, 2014\n",
      "\n",
      "After talking to McKay yesterday, we are going to look at the data from the last simulation set. I am going to average the velocities of the probes in consecutiv rings (constant r from the center) and see how they change down the cylinder. The data is downloaded in jan_29_analysis"
     ]
    },
    {
     "cell_type": "code",
     "collapsed": false,
     "input": [],
     "language": "python",
     "metadata": {},
     "outputs": []
    }
   ],
   "metadata": {}
  }
 ]
}